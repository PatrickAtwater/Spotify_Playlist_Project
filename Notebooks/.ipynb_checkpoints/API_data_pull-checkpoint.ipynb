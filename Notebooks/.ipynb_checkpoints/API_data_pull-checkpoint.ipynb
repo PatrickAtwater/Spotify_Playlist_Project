{
 "cells": [
  {
   "cell_type": "code",
   "execution_count": null,
   "id": "8e8269d2",
   "metadata": {},
   "outputs": [],
   "source": [
    "#pip install spotipy"
   ]
  },
  {
   "cell_type": "code",
   "execution_count": null,
   "id": "d6ebaaf3",
   "metadata": {},
   "outputs": [],
   "source": [
    "import pandas as pd\n",
    "import requests\n",
    "import spotipy.util as util\n",
    "import spotipy\n",
    "pd.options.display.max_rows = 1000\n",
    "import datetime"
   ]
  },
  {
   "cell_type": "code",
   "execution_count": null,
   "id": "80824b4d",
   "metadata": {},
   "outputs": [],
   "source": [
    "username = '1241795200'\n",
    "client_id ='b5762be2d23d43b189262e8c53a6078c'\n",
    "client_secret = 'a7e8d83649314303817889927c027728'\n",
    "redirect_uri = 'http://localhost:7777/callback'\n",
    "scope = 'user-read-recently-played'\n",
    "\n",
    "token = util.prompt_for_user_token(username=username, \n",
    "                                   scope=scope, \n",
    "                                   client_id=client_id,   \n",
    "                                   client_secret=client_secret,     \n",
    "                                   redirect_uri=redirect_uri)\n",
    "sp = spotipy.Spotify(auth=token)"
   ]
  },
  {
   "cell_type": "code",
   "execution_count": null,
   "id": "1b64b71c",
   "metadata": {},
   "outputs": [],
   "source": [
    "token"
   ]
  },
  {
   "cell_type": "code",
   "execution_count": null,
   "id": "61cfa439",
   "metadata": {},
   "outputs": [],
   "source": [
    "sp = spotipy.Spotify(auth=token)"
   ]
  },
  {
   "cell_type": "code",
   "execution_count": null,
   "id": "48e32e4c",
   "metadata": {},
   "outputs": [],
   "source": [
    "sp.current_user()"
   ]
  },
  {
   "cell_type": "code",
   "execution_count": null,
   "id": "ee07287d",
   "metadata": {},
   "outputs": [],
   "source": [
    "endpoint = 'https://api.spotify.com/v1/'"
   ]
  },
  {
   "cell_type": "code",
   "execution_count": null,
   "id": "0f574f04",
   "metadata": {},
   "outputs": [],
   "source": [
    "#response= requests.get(endpoint, token=token)"
   ]
  },
  {
   "cell_type": "code",
   "execution_count": null,
   "id": "1e870bd5",
   "metadata": {},
   "outputs": [],
   "source": [
    "# def get_id(track_name: str, token: str) -> str:\n",
    "#     headers = {\n",
    "#     'Accept': 'application/json',\n",
    "#     'Content-Type': 'application/json',\n",
    "#     'Authorization': f'Bearer ' + token,\n",
    "#     }\n",
    "#     params = [\n",
    "#     ('q', track_name),\n",
    "#     ('type', 'track'),\n",
    "#     ]\n",
    "#     try:\n",
    "#         response = requests.get('https://api.spotify.com/v1/search', \n",
    "#                     headers = headers, params = params, timeout = 5)\n",
    "#         json = response.json()\n",
    "#         first_result = json['tracks']['items'][0]\n",
    "#         track_id = first_result['id']\n",
    "#         return track_id\n",
    "#     except:\n",
    "#         return None"
   ]
  },
  {
   "cell_type": "code",
   "execution_count": null,
   "id": "8051bde7",
   "metadata": {},
   "outputs": [],
   "source": [
    "# lucy_id = get_id('Lucy', token)\n",
    "# print(lucy_id)"
   ]
  },
  {
   "cell_type": "code",
   "execution_count": null,
   "id": "658419c4",
   "metadata": {},
   "outputs": [],
   "source": [
    "# def get_features(track_id: str, token: str) -> dict:\n",
    "#     sp = spotipy.Spotify(auth=token)\n",
    "#     try:\n",
    "#         features = sp.audio_features([track_id])\n",
    "#         return features[0]\n",
    "#     except:\n",
    "#         return None\n",
    "    "
   ]
  },
  {
   "cell_type": "code",
   "execution_count": null,
   "id": "a5d635c8",
   "metadata": {},
   "outputs": [],
   "source": [
    "# lucy_features = get_features(lucy_id, token)\n",
    "# lucy_features"
   ]
  },
  {
   "cell_type": "code",
   "execution_count": null,
   "id": "69cee7c8",
   "metadata": {},
   "outputs": [],
   "source": [
    "# streamings = get_streamings()\n",
    "# unique_tracks = list(set([streaming['trackName'] \n",
    "#                 for streaming in streamings]))\n",
    "\n",
    "# all_features = {}\n",
    "# for track in unique_tracks:\n",
    "#     track_id = get_id(track, token)\n",
    "#     features = get_features(track_id, token)\n",
    "#     if features:\n",
    "#         all_features[track] = features\n",
    "        \n",
    "# with_features = []\n",
    "# for track_name, features in all_features.items():\n",
    "#     with_features.append({'name': track_name, **features})"
   ]
  },
  {
   "cell_type": "code",
   "execution_count": null,
   "id": "7365c01c",
   "metadata": {},
   "outputs": [],
   "source": [
    "# def get_streamings(path: str = 'MyData', \n",
    "#                 ) -> {}:\n",
    "    \n",
    "#     '''Returns a list of streamings form spotify MyData dump.\n",
    "#     Will not acquire track features.'''\n",
    "    \n",
    "#     files = ['MyData/' + x for x in listdir(path)\n",
    "#              if x.split('.')[0][:-1] == 'StreamingHistory']\n",
    "    \n",
    "#     all_streamings = []\n",
    "    \n",
    "#     for file in files: \n",
    "#         with open(file, 'r', encoding='UTF-8') as f:\n",
    "#             new_streamings = ast.literal_eval(f.read())\n",
    "#             all_streamings += [streaming for streaming in new_streamings]\n",
    "            \n",
    "#     #adding datetime field\n",
    "#     for streaming in all_streamings:\n",
    "#         streaming['datetime'] = datetime.strptime(streaming['endTime'], '%Y-%m-%d %H:%M')    \n",
    "#     return all_streamings"
   ]
  },
  {
   "cell_type": "code",
   "execution_count": null,
   "id": "a5fab113",
   "metadata": {},
   "outputs": [],
   "source": []
  },
  {
   "cell_type": "code",
   "execution_count": null,
   "id": "c6042e0e",
   "metadata": {},
   "outputs": [],
   "source": [
    "\n",
    "# from spotipy.oauth2 import SpotifyOAuth\n",
    "# export SPOTIPY_CLIENT_ID=client_id\n",
    "# export SPOTIPY_CLIENT_SECRET=client_secret\n",
    "# sp = spotipy.Spotify(auth_manager=SpotifyOAuth())\n",
    "\n",
    "# response = sp.featured_playlists()\n",
    "# print(response['message'])\n",
    "\n",
    "# while response:\n",
    "#     playlists = response['playlists']\n",
    "#     for i, item in enumerate(playlists['items']):\n",
    "#         print(playlists['offset'] + i, item['name'])\n",
    "\n",
    "#     if playlists['next']:\n",
    "#         response = sp.next(playlists)\n",
    "#     else:\n",
    "#         response = None"
   ]
  },
  {
   "cell_type": "code",
   "execution_count": null,
   "id": "97ffbdfe",
   "metadata": {},
   "outputs": [],
   "source": [
    "sp = spotipy.Spotify(auth=token)\n",
    "urn = 'spotify:artist:3jOstUTkEu2JkjvRdBA5Gu'\n",
    "artist = sp.artist(urn)\n",
    "artist\n"
   ]
  },
  {
   "cell_type": "code",
   "execution_count": null,
   "id": "bdd8f7a0",
   "metadata": {},
   "outputs": [],
   "source": [
    "artist.get('name')"
   ]
  },
  {
   "cell_type": "code",
   "execution_count": null,
   "id": "a0e4be69",
   "metadata": {},
   "outputs": [],
   "source": [
    "related_artists = sp.artist_related_artists(urn)\n",
    "related_artists"
   ]
  },
  {
   "cell_type": "markdown",
   "id": "10efbcad",
   "metadata": {},
   "source": [
    "category_playlists(category_id=None, country=None, limit=20, offset=0)\n",
    "Get a list of playlists for a specific Spotify category\n",
    "\n",
    "Parameters:\n",
    "category_id - The Spotify category ID for the category.\n",
    "country - An ISO 3166-1 alpha-2 country code.\n",
    "limit - The maximum number of items to return. Default: 20. Minimum: 1. Maximum: 50\n",
    "offset - The index of the first item to return. Default: 0 (the first object). Use with limit to get the next set of items.\n",
    "country_codes= ['AD', 'AR', 'AU', 'AT', 'BE', 'BO', 'BR', 'BG', 'CA', 'CL', 'CO', 'CR', 'CY', 'CZ', 'DK', 'DO', 'EC', 'SV', 'EE', 'FI', 'FR', 'DE', 'GR', 'GT', 'HN', 'HK', 'HU', 'IS', 'ID', 'IE', 'IT', 'JP', 'LV', 'LI', 'LT', 'LU', 'MY', 'MT', 'MX', 'MC', 'NL', 'NZ', 'NI', 'NO', 'PA', 'PY', 'PE', 'PH', 'PL', 'PT', 'SG', 'ES', 'SK', 'SE', 'CH', 'TW', 'TR', 'GB', 'US', 'UY']"
   ]
  },
  {
   "cell_type": "code",
   "execution_count": null,
   "id": "10be6e9a",
   "metadata": {},
   "outputs": [],
   "source": [
    "user_info = sp.current_user()\n",
    "user_info"
   ]
  },
  {
   "cell_type": "code",
   "execution_count": null,
   "id": "7212f301",
   "metadata": {},
   "outputs": [],
   "source": [
    "user_playlists = sp.current_user_recently_played()\n",
    "(user_playlists.get('items')[0]).get('track').get('album').get('artists')[0].get('name')\n",
    "(user_playlists.get('items')[0]).get('track').get('name')"
   ]
  },
  {
   "cell_type": "code",
   "execution_count": null,
   "id": "4077d6e7",
   "metadata": {},
   "outputs": [],
   "source": [
    "len(user_playlists.get('items'))"
   ]
  },
  {
   "cell_type": "code",
   "execution_count": null,
   "id": "7466c688",
   "metadata": {},
   "outputs": [],
   "source": [
    "recent_artists = {}\n",
    "for x in range(0,50):\n",
    "    artist = (user_playlists.get('items')[x]).get('track').get('album').get('artists')[0].get('name')\n",
    "    if artist in recent_artists:\n",
    "        recent_artists[artist]+=1\n",
    "    else:\n",
    "        recent_artists[artist]=1\n",
    "recent_artists"
   ]
  },
  {
   "cell_type": "code",
   "execution_count": null,
   "id": "546decd6",
   "metadata": {},
   "outputs": [],
   "source": [
    "recent_songs = {}\n",
    "for x in range(0,50):\n",
    "    song = (user_playlists.get('items')[x]).get('track').get('name')\n",
    "    if song in recent_songs:\n",
    "        recent_songs[song]+=1\n",
    "    else:\n",
    "        recent_songs[song]=1\n",
    "recent_songs"
   ]
  },
  {
   "cell_type": "markdown",
   "id": "06c1caa7",
   "metadata": {},
   "source": [
    "featured_playlists(locale=None, country=None, timestamp=None, limit=20, offset=0)\n",
    "Get a list of Spotify featured playlists\n",
    "\n",
    "Parameters:\n",
    "locale - The desired language, consisting of a lowercase ISO 639 language code and an uppercase ISO 3166-1 alpha-2 country code, joined by an underscore.\n",
    "country - An ISO 3166-1 alpha-2 country code.\n",
    "timestamp - A timestamp in ISO 8601 format: yyyy-MM-ddTHH:mm:ss. Use this parameter to specify the user’s local time to get results tailored for that specific date and time in the day\n",
    "limit - The maximum number of items to return. Default: 20. Minimum: 1. Maximum: 50\n",
    "offset - The index of the first item to return. Default: 0 (the first object). Use with limit to get the next set of items."
   ]
  },
  {
   "cell_type": "code",
   "execution_count": null,
   "id": "6f997cf6",
   "metadata": {},
   "outputs": [],
   "source": [
    "featured_playlists = sp.featured_playlists(limit=50)\n",
    "featured_playlists"
   ]
  },
  {
   "cell_type": "code",
   "execution_count": null,
   "id": "76fad056",
   "metadata": {},
   "outputs": [],
   "source": [
    "#pulling names from editor's picks list of playlist\n",
    "playlist_name = featured_playlists.get('playlists').get('items')[1].get('name')\n",
    "playlist_name"
   ]
  },
  {
   "cell_type": "code",
   "execution_count": null,
   "id": "25e26416",
   "metadata": {},
   "outputs": [],
   "source": [
    "len(featured_playlists.get('playlists').get('items'))"
   ]
  },
  {
   "cell_type": "code",
   "execution_count": null,
   "id": "68e8006c",
   "metadata": {},
   "outputs": [],
   "source": [
    "playlist_names = []\n",
    "number_of_playlists = len(featured_playlists.get('playlists').get('items'))\n",
    "\n",
    "for x in range(0,number_of_playlists):\n",
    "    name = featured_playlists.get('playlists').get('items')[x].get('name')\n",
    "    playlist_names.append(name)\n",
    "playlist_names"
   ]
  },
  {
   "cell_type": "code",
   "execution_count": null,
   "id": "ab6172f8",
   "metadata": {},
   "outputs": [],
   "source": [
    "playlist_info = featured_playlists.get('playlists').get('items')[2]\n",
    "# column_list = playlist_info.keys()\n",
    "# column_list\n",
    "playlist_info"
   ]
  },
  {
   "cell_type": "code",
   "execution_count": null,
   "id": "a8fbb06b",
   "metadata": {
    "scrolled": true
   },
   "outputs": [],
   "source": [
    "columns = ['name',\n",
    "           'description','id','href','tracks','collaborative',\n",
    "           'external_urls',\n",
    "           'images',\n",
    "           'owner',\n",
    "           'primary_color',\n",
    "           'public',\n",
    "           'snapshot_id',\n",
    "           'type',\n",
    "           'uri']\n",
    "playlist_df= pd.DataFrame(columns=columns)\n",
    "playlist_temp = {}\n",
    "for y in range(0,number_of_playlists):\n",
    "    playlist_info = featured_playlists.get('playlists').get('items')[y]\n",
    "    #print(playlist_info)\n",
    "    for k,v in playlist_info.items():\n",
    "        playlist_temp[k]=[v]\n",
    "    playlist_temp_df = pd.DataFrame.from_dict(playlist_temp)\n",
    "    playlist_df = pd.concat([playlist_df, playlist_temp_df])\n",
    "       "
   ]
  },
  {
   "cell_type": "code",
   "execution_count": null,
   "id": "8674d2e6",
   "metadata": {},
   "outputs": [],
   "source": [
    "import datetime\n",
    "now = str(datetime.datetime.now())\n",
    "now\n",
    "playlist_df.reset_index(drop=True,inplace=True)\n",
    "playlist_df.to_csv(f'{now}.csv')\n",
    "\n",
    "playlist_df"
   ]
  },
  {
   "cell_type": "markdown",
   "id": "30946035",
   "metadata": {},
   "source": [
    "playlist_items(playlist_id, fields=None, limit=100, offset=0, market=None, additional_types=('track', 'episode'))\n",
    "Get full details of the tracks and episodes of a playlist.\n",
    "\n",
    "Parameters:\n",
    "playlist_id - the id of the playlist\n",
    "fields - which fields to return\n",
    "limit - the maximum number of tracks to return\n",
    "offset - the index of the first track to return\n",
    "market - an ISO 3166-1 alpha-2 country code.\n",
    "additional_types - list of item types to return.\n",
    "valid types are: track and episode"
   ]
  },
  {
   "cell_type": "code",
   "execution_count": null,
   "id": "de6f377e",
   "metadata": {},
   "outputs": [],
   "source": [
    "# playlist_test= sp.playlist_items('37i9dQZF1DX0s5kDXi1oC5')\n",
    "# playlist_test"
   ]
  },
  {
   "cell_type": "code",
   "execution_count": null,
   "id": "b5889ae2",
   "metadata": {},
   "outputs": [],
   "source": [
    "# track_test= sp.track('7GJClzimvMSghjcrKxuf1M')\n",
    "# track_test"
   ]
  },
  {
   "cell_type": "code",
   "execution_count": null,
   "id": "ad610f1d",
   "metadata": {},
   "outputs": [],
   "source": [
    "import json\n",
    "track_df = pd.DataFrame()\n",
    "for i,row in playlist_df.iterrows():\n",
    "    playlist_test_tracks= sp.playlist_tracks(row['id'])\n",
    "    playlist_name =row['name'] \n",
    "    print(playlist_name)\n",
    "    print(len(playlist_test_tracks.get('items')))\n",
    "    #print(json.dumps(playlist_test_tracks, indent=4))\n",
    "    for x in range(0,len(playlist_test_tracks.get('items'))):\n",
    "        if playlist_test_tracks.get('items')[x].get('track')== None:\n",
    "            continue\n",
    "        else:\n",
    "            #print(x)\n",
    "            track_title = playlist_test_tracks.get('items')[x].get('track').get('name')\n",
    "            track_id = playlist_test_tracks.get('items')[x].get('track').get('id')\n",
    "            track_artist = playlist_test_tracks.get('items')[x].get('track').get('artists')[0].get('name')\n",
    "            artist_id= playlist_test_tracks.get('items')[x].get('track').get('artists')[0].get('id')\n",
    "            track_album = playlist_test_tracks.get('items')[x].get('track').get('album').get('name')\n",
    "            album_id= playlist_test_tracks.get('items')[x].get('track').get('album').get('id')\n",
    "            track_release_date = playlist_test_tracks.get('items')[x].get('track').get('album').get('release_date')\n",
    "            date_added = playlist_test_tracks.get('items')[x].get('added_at')\n",
    "            popularity = playlist_test_tracks.get('items')[x].get('track').get('popularity')\n",
    "            columns = {'playlist_name':[playlist_name],\n",
    "                       'track_title':[track_title],\n",
    "                       'track_id':[track_id],\n",
    "                       'track_artist':[track_artist],\n",
    "                       'artist_id':[artist_id],\n",
    "                       'track_album':[track_album],\n",
    "                       'track_release_date':[track_release_date],\n",
    "                       'date_added':[date_added],\n",
    "                       'popularity':[popularity]\n",
    "\n",
    "                      }\n",
    "            temp_df=pd.DataFrame.from_dict(columns)\n",
    "            track_df= pd.concat([track_df, temp_df])\n",
    "track_df.reset_index(drop=True,inplace=True)"
   ]
  },
  {
   "cell_type": "code",
   "execution_count": null,
   "id": "79bab795",
   "metadata": {},
   "outputs": [],
   "source": [
    "# error_look = sp.playlist_tracks('37i9dQZF1DXca8AyWK6Y7g')\n",
    "# print(json.dumps(error_look.get('items')[2], indent=4))"
   ]
  },
  {
   "cell_type": "code",
   "execution_count": null,
   "id": "2558c9bd",
   "metadata": {},
   "outputs": [],
   "source": [
    "track_df.sort_values(by='playlist_name', ascending=False)"
   ]
  },
  {
   "cell_type": "code",
   "execution_count": null,
   "id": "c06e2129",
   "metadata": {},
   "outputs": [],
   "source": [
    "len(track_df)"
   ]
  },
  {
   "cell_type": "markdown",
   "id": "4ff19a8e",
   "metadata": {},
   "source": [
    "### Current Status\n",
    "Now that I have a DataFrame of the songs in the featured playlists, next I will pull the metadata for each track in these lists."
   ]
  },
  {
   "cell_type": "code",
   "execution_count": null,
   "id": "e83d9931",
   "metadata": {},
   "outputs": [],
   "source": [
    "track_meta = sp.audio_features('5E3P9e1hvjyIOlFyqNB5eD')\n",
    "track_meta"
   ]
  },
  {
   "cell_type": "code",
   "execution_count": null,
   "id": "cbc5ffc3",
   "metadata": {},
   "outputs": [],
   "source": [
    "number_of_songs = len(track_df)\n",
    "songmeta_temp = {}\n",
    "meta_df= pd.DataFrame()\n",
    "for i,row in track_df.iterrows():\n",
    "    print(i)\n",
    "    song_features = sp.audio_features(row['track_id'])[0]\n",
    "    artist_info = sp.artist(row['artist_id'])\n",
    "    artist_followers = artist_info.get('followers').get('total')\n",
    "    artist_genres = artist_info.get('genres')\n",
    "    artist_popularity = artist_info.get('popularity')\n",
    "    if song_features == None:\n",
    "        continue\n",
    "    else:\n",
    "        for k,v in song_features.items():\n",
    "            songmeta_temp[k]=[v]\n",
    "        songmeta_temp['artist_followers']=[artist_followers]\n",
    "        songmeta_temp['artist_genres']=[artist_genres]\n",
    "        songmeta_temp['artist_popularity']=[artist_popularity]\n",
    "        song_features_temp_df = pd.DataFrame.from_dict(songmeta_temp)\n",
    "        meta_df = pd.concat([meta_df, song_features_temp_df])"
   ]
  },
  {
   "cell_type": "code",
   "execution_count": null,
   "id": "dc732303",
   "metadata": {},
   "outputs": [],
   "source": [
    "meta_df=meta_df.drop_duplicates(subset=meta_df.columns.difference(['artist_genres']),keep='first')\n",
    "song_merged = pd.merge(track_df, meta_df, how = 'left', left_on='track_id', right_on='id' )\n",
    "song_merged.drop(['id', 'uri', 'track_href'], axis = 1, inplace=True)\n",
    "song_merged"
   ]
  },
  {
   "cell_type": "code",
   "execution_count": null,
   "id": "6cc2ef7a",
   "metadata": {},
   "outputs": [],
   "source": [
    "meta_df\n",
    "len(meta_df)"
   ]
  },
  {
   "cell_type": "code",
   "execution_count": null,
   "id": "6043c527",
   "metadata": {},
   "outputs": [],
   "source": []
  },
  {
   "cell_type": "code",
   "execution_count": null,
   "id": "55a72951",
   "metadata": {},
   "outputs": [],
   "source": [
    "categories= sp.categories()\n",
    "categories"
   ]
  },
  {
   "cell_type": "markdown",
   "id": "04071f28",
   "metadata": {},
   "source": [
    "recommendations(seed_artists=None, seed_genres=None, seed_tracks=None, limit=20, country=None, **kwargs)\n",
    "Get a list of recommended tracks for one to five seeds. (at least one of seed_artists, seed_tracks and seed_genres are needed)\n",
    "\n",
    "Parameters:\n",
    "seed_artists - a list of artist IDs, URIs or URLs\n",
    "seed_tracks - a list of track IDs, URIs or URLs\n",
    "seed_genres - a list of genre names. Available genres for\n",
    "recommendations can be found by calling recommendation_genre_seeds"
   ]
  },
  {
   "cell_type": "markdown",
   "id": "a8d3cbcf",
   "metadata": {},
   "source": [
    "category_playlists(category_id=None, country=None, limit=20, offset=0)\n",
    "Get a list of playlists for a specific Spotify category\n",
    "\n",
    "Parameters:\n",
    "category_id - The Spotify category ID for the category.\n",
    "country - An ISO 3166-1 alpha-2 country code.\n",
    "limit - The maximum number of items to return. Default: 20. Minimum: 1. Maximum: 50\n",
    "offset - The index of the first item to return. Default: 0 (the first object). Use with limit to get the next set of items."
   ]
  },
  {
   "cell_type": "code",
   "execution_count": null,
   "id": "217cfd3e",
   "metadata": {},
   "outputs": [],
   "source": [
    "list_of_genres = sp.recommendation_genre_seeds()"
   ]
  },
  {
   "cell_type": "code",
   "execution_count": null,
   "id": "6e4c6f87",
   "metadata": {},
   "outputs": [],
   "source": [
    "list_of_genres"
   ]
  },
  {
   "cell_type": "markdown",
   "id": "4640cb66",
   "metadata": {},
   "source": [
    "### Using categories method and a loop for offset, call all categories and their IDs"
   ]
  },
  {
   "cell_type": "code",
   "execution_count": null,
   "id": "af0472e5",
   "metadata": {},
   "outputs": [],
   "source": [
    "offset = [0,50]\n",
    "list_of_categories = []\n",
    "for item in offset:\n",
    "    list_temp= sp.categories(limit=50, offset=item).get('categories').get('items')\n",
    "    print(len(list_temp))\n",
    "    for x in range(0, len(list_temp)):\n",
    "        category_entry = list_temp[x]\n",
    "        list_of_categories.append(category_entry)\n",
    "list_of_categories"
   ]
  },
  {
   "cell_type": "markdown",
   "id": "a9c4ce5e",
   "metadata": {},
   "source": [
    "### Create Dataframe of Categories and their ID's"
   ]
  },
  {
   "cell_type": "code",
   "execution_count": null,
   "id": "b2dd3c14",
   "metadata": {},
   "outputs": [],
   "source": [
    "category_df = pd.DataFrame(columns=['category_name', 'category_id'])\n",
    "for item in list_of_categories:\n",
    "    category_id = item.get('id')\n",
    "    category_name = item.get('name')\n",
    "    cat_temp_dict = {}\n",
    "    cat_temp_dict['category_name']=[category_name]\n",
    "    cat_temp_dict['category_id'] = [category_id]\n",
    "    cat_temp_df = pd.DataFrame(cat_temp_dict)\n",
    "    category_df= pd.concat([category_df,cat_temp_df])\n",
    "category_df.reset_index(drop=True,inplace=True)\n",
    "category_df"
   ]
  },
  {
   "cell_type": "markdown",
   "id": "2c58583b",
   "metadata": {},
   "source": [
    "### Create call to produce DataFrame of all playlists for each given category"
   ]
  },
  {
   "cell_type": "code",
   "execution_count": null,
   "id": "2366886b",
   "metadata": {},
   "outputs": [],
   "source": [
    "columns = ['category_name', 'category_id','name',\n",
    "           'description','id','href','tracks','collaborative',\n",
    "           'external_urls',\n",
    "           'images',\n",
    "           'owner',\n",
    "           'primary_color',\n",
    "           'public',\n",
    "           'snapshot_id',\n",
    "           'type',\n",
    "           'uri']\n",
    "cat_playlist_df= pd.DataFrame(columns=columns)\n",
    "for i, row in category_df.iterrows():\n",
    "    if row['category_id'] == 'francophone':\n",
    "        continue\n",
    "    else:\n",
    "        cat_call = sp.category_playlists(row['category_id']).get('playlists').get('items')\n",
    "        cat_name = row['category_name']\n",
    "        cat_number_of_playlists = len(cat_call)\n",
    "        cat_playlist_temp = {}\n",
    "        for y in range(0,cat_number_of_playlists):\n",
    "            cat_playlist_info = cat_call[y]\n",
    "            #print(playlist_info)\n",
    "            for k,v in cat_playlist_info.items():\n",
    "                cat_playlist_temp[k]=[v]\n",
    "                cat_playlist_temp['category_name'] = [cat_name]\n",
    "                cat_playlist_temp['category_id'] = [row['category_id']]\n",
    "            cat_playlist_temp_df = pd.DataFrame.from_dict(cat_playlist_temp)\n",
    "            cat_playlist_df = pd.concat([cat_playlist_df, cat_playlist_temp_df])\n",
    "cat_playlist_df.reset_index(drop=True,inplace=True)\n",
    "cat_playlist_df"
   ]
  },
  {
   "cell_type": "code",
   "execution_count": null,
   "id": "a1e6daf9",
   "metadata": {},
   "outputs": [],
   "source": [
    "len(cat_playlist_df)"
   ]
  },
  {
   "cell_type": "code",
   "execution_count": null,
   "id": "7b719ddc",
   "metadata": {},
   "outputs": [],
   "source": [
    "now = str(datetime.datetime.now())\n",
    "now\n",
    "cat_playlist_df.to_csv(f'Playlists_by_category_{now}.csv')"
   ]
  },
  {
   "cell_type": "code",
   "execution_count": null,
   "id": "eb373d6b",
   "metadata": {},
   "outputs": [],
   "source": [
    "category_playlists_df = pd.read_csv('Playlists_by_category_2021-08-09 11.40.13.466842.csv')"
   ]
  },
  {
   "cell_type": "code",
   "execution_count": null,
   "id": "d66c63a8",
   "metadata": {},
   "outputs": [],
   "source": [
    "cat_track_df = pd.DataFrame()\n",
    "for i,row in category_playlists_df.iterrows():\n",
    "    playlist_test_tracks= sp.playlist_tracks(row['id'])\n",
    "    playlist_name =row['name'] \n",
    "    playlist_length =len(playlist_test_tracks.get('items'))\n",
    "    print(f'{i}:{playlist_name}\\n number of tracks: {playlist_length}\\n')\n",
    "    #print(json.dumps(playlist_test_tracks, indent=4))\n",
    "    for x in range(0,playlist_length):\n",
    "        if playlist_test_tracks.get('items')[x].get('track')== None:\n",
    "            continue\n",
    "        else:\n",
    "            #print(x)\n",
    "            track_title = playlist_test_tracks.get('items')[x].get('track').get('name')\n",
    "            track_id = playlist_test_tracks.get('items')[x].get('track').get('id')\n",
    "            track_artist = playlist_test_tracks.get('items')[x].get('track').get('artists')[0].get('name')\n",
    "            artist_id= playlist_test_tracks.get('items')[x].get('track').get('artists')[0].get('id')\n",
    "            track_album = playlist_test_tracks.get('items')[x].get('track').get('album').get('name')\n",
    "            album_id= playlist_test_tracks.get('items')[x].get('track').get('album').get('id')\n",
    "            track_release_date = playlist_test_tracks.get('items')[x].get('track').get('album').get('release_date')\n",
    "            date_added = playlist_test_tracks.get('items')[x].get('added_at')\n",
    "            popularity = playlist_test_tracks.get('items')[x].get('track').get('popularity')\n",
    "            columns = {'category_name' : [row['category_name']],\n",
    "                       'category_id' : [row['category_id']],\n",
    "                       'playlist_name':[playlist_name],\n",
    "                       'playlist_id': [row['id']],\n",
    "                       'track_title':[track_title],\n",
    "                       'track_id':[track_id],\n",
    "                       'track_artist':[track_artist],\n",
    "                       'artist_id':[artist_id],\n",
    "                       'track_album':[track_album],\n",
    "                       'track_release_date':[track_release_date],\n",
    "                       'date_added':[date_added],\n",
    "                       'popularity':[popularity]\n",
    "\n",
    "                      }\n",
    "            temp_df=pd.DataFrame.from_dict(columns)\n",
    "            cat_track_df= pd.concat([cat_track_df, temp_df])\n",
    "cat_track_df.reset_index(drop=True,inplace=True)"
   ]
  },
  {
   "cell_type": "code",
   "execution_count": null,
   "id": "c63c27a4",
   "metadata": {},
   "outputs": [],
   "source": [
    "now = str(datetime.datetime.now())\n",
    "now\n",
    "cat_track_df.to_csv(f'songs_by_cat_{now}.csv')"
   ]
  },
  {
   "cell_type": "code",
   "execution_count": null,
   "id": "c1214588",
   "metadata": {},
   "outputs": [],
   "source": [
    "cat_track_df = pd.read_csv('songs_by_cat_2021-08-11 09.54.23.367182.csv')"
   ]
  },
  {
   "cell_type": "code",
   "execution_count": null,
   "id": "9157de95",
   "metadata": {},
   "outputs": [],
   "source": [
    "# cat_track_df = cat_track_df.drop(index=21886).reset_index(drop=True)\n",
    "# cat_track_df"
   ]
  },
  {
   "cell_type": "code",
   "execution_count": null,
   "id": "47f96553",
   "metadata": {},
   "outputs": [],
   "source": [
    "songmeta_temp = {}\n",
    "meta_df_4= pd.DataFrame()\n",
    "for i,row in cat_track_df.iloc[29820:35000].iterrows():\n",
    "    print(i)\n",
    "    try:\n",
    "        song_features = sp.audio_features(row['track_id'])[0]\n",
    "        sp.artist(row['artist_id'])\n",
    "        artist_info = sp.artist(row['artist_id'])\n",
    "        artist_followers = artist_info.get('followers').get('total')\n",
    "        artist_genres = artist_info.get('genres')\n",
    "        artist_popularity = artist_info.get('popularity')\n",
    "        if song_features == None or artist_info == None:\n",
    "            continue\n",
    "        else:\n",
    "            for k,v in song_features.items():\n",
    "                songmeta_temp[k]=[v]\n",
    "            songmeta_temp['artist_followers']=[artist_followers]\n",
    "            songmeta_temp['artist_genres']=[artist_genres]\n",
    "            songmeta_temp['artist_popularity']=[artist_popularity]\n",
    "            song_features_temp_df = pd.DataFrame.from_dict(songmeta_temp)\n",
    "            meta_df_4 = pd.concat([meta_df_4, song_features_temp_df])\n",
    "    except:\n",
    "        continue"
   ]
  },
  {
   "cell_type": "code",
   "execution_count": null,
   "id": "42f03843",
   "metadata": {},
   "outputs": [],
   "source": [
    "meta_df_3"
   ]
  },
  {
   "cell_type": "code",
   "execution_count": null,
   "id": "957d9781",
   "metadata": {},
   "outputs": [],
   "source": [
    "artist_id_1 = '2tIP7SsRs7vjIcLrU85W8J'\n",
    "artist_id_2 = '672Jlh0U2Tr5lbZJQRIzJG'\n",
    "if sp.artist('artist_id_1') raise ValueError\n",
    "    artist_info = sp.artist(row['artist_id'])"
   ]
  },
  {
   "cell_type": "code",
   "execution_count": null,
   "id": "a4107253",
   "metadata": {},
   "outputs": [],
   "source": [
    "#meta_df_1\n",
    "#meta_df_2\n",
    "import datetime\n",
    "now = str(datetime.datetime.now())\n",
    "now\n",
    "meta_df_3.to_csv(f'meta_df_3_{now}.csv')"
   ]
  },
  {
   "cell_type": "code",
   "execution_count": null,
   "id": "b746a878",
   "metadata": {},
   "outputs": [],
   "source": [
    "artist = cat_track_df.iloc[21886]\n",
    "artist"
   ]
  },
  {
   "cell_type": "code",
   "execution_count": null,
   "id": "84e76978",
   "metadata": {},
   "outputs": [],
   "source": [
    "artist_weird = sp.artist('3KdjhGdm9F3EWn2K0xk3Jq')\n",
    "artist_weird"
   ]
  },
  {
   "cell_type": "code",
   "execution_count": null,
   "id": "58bf4b9b",
   "metadata": {},
   "outputs": [],
   "source": [
    "meta_df_1 = pd.read_csv('meta_df_1_2021-08-10 13.00.16.461806.csv')\n",
    "meta_df_2 = pd.read_csv('meta_df_2_2021-08-10 13.01.01.260547.csv')\n",
    "meta_df_3 = pd.read_csv('meta_df_3_2021-08-11 10.45.50.141538.csv')"
   ]
  },
  {
   "cell_type": "code",
   "execution_count": null,
   "id": "a16d3b03",
   "metadata": {},
   "outputs": [],
   "source": [
    "meta_df = pd.DataFrame()\n",
    "meta_df = pd.concat([meta_df,meta_df_1,meta_df_2,meta_df_3])"
   ]
  },
  {
   "cell_type": "code",
   "execution_count": null,
   "id": "3bb615d9",
   "metadata": {},
   "outputs": [],
   "source": [
    "meta_df=meta_df.drop_duplicates(subset=meta_df.columns.difference(['artist_genres']),keep='first')\n",
    "cat_song_merged = pd.merge(cat_track_df, meta_df, how = 'left', left_on='track_id', right_on='id' )\n",
    "cat_song_merged.drop(['id', 'uri', 'track_href', 'Unnamed: 0_x'], axis = 1, inplace=True)\n",
    "cat_song_merged"
   ]
  },
  {
   "cell_type": "code",
   "execution_count": null,
   "id": "054cecf1",
   "metadata": {},
   "outputs": [],
   "source": [
    "now = str(datetime.datetime.now())\n",
    "now\n",
    "cat_song_merged.to_csv(f'songs_by_cat_{now}.csv')"
   ]
  },
  {
   "cell_type": "markdown",
   "id": "6f331092",
   "metadata": {},
   "source": [
    "### Next, pull recommended playlists based on each genre"
   ]
  },
  {
   "cell_type": "code",
   "execution_count": null,
   "id": "d9417d53",
   "metadata": {},
   "outputs": [],
   "source": [
    "list_of_genres = sp.recommendation_genre_seeds()\n",
    "list_of_genres= list_of_genres.get('genres')\n",
    "list_of_genres"
   ]
  },
  {
   "cell_type": "code",
   "execution_count": null,
   "id": "740036f9",
   "metadata": {},
   "outputs": [],
   "source": [
    "genre_rec_tracks = sp.recommendations(seed_genres=['acoustic'], limit=100, max='popularity')\n",
    "genre_rec_tracks.get('tracks')[1]"
   ]
  },
  {
   "cell_type": "code",
   "execution_count": null,
   "id": "9e8d19ea",
   "metadata": {},
   "outputs": [],
   "source": [
    "genre_rec_tracks.get('tracks')[1].get('album').get('name')"
   ]
  },
  {
   "cell_type": "markdown",
   "id": "44a1492b",
   "metadata": {},
   "source": [
    "#### Recommednations call gives you around 1000 songs for each genre. Another helpful bit of data. Next step, compile master list of each recommended song for each genre along with metadata"
   ]
  },
  {
   "cell_type": "code",
   "execution_count": null,
   "id": "ccc56eff",
   "metadata": {},
   "outputs": [],
   "source": [
    "genre_track_title = genre_rec_tracks.get('tracks')[0].get('name')\n",
    "genre_track_id = genre_rec_tracks.get('tracks')[1].get('id')\n",
    "genre_track_artist = genre_rec_tracks.get('tracks')[1].get('artists')[0].get('name')\n",
    "genre_artist_id= genre_rec_tracks.get('tracks')[1].get('artists')[0].get('id')\n",
    "genre_track_album = genre_rec_tracks.get('tracks')[1].get('album').get('name')\n",
    "genre_album_id= genre_rec_tracks.get('tracks')[1].get('album').get('id')\n",
    "genre_track_release_date = genre_rec_tracks.get('tracks')[1].get('album').get('release_date')\n",
    "genre_album_type =  genre_rec_tracks.get('tracks')[1].get('album').get('album_type')\n",
    "genre_track_popularity = genre_rec_tracks.get('tracks')[0].get('popularity')"
   ]
  },
  {
   "cell_type": "code",
   "execution_count": null,
   "id": "6ac90ce7",
   "metadata": {},
   "outputs": [],
   "source": [
    "genre_track_df = pd.DataFrame()\n",
    "print(f'number of genres: {len(list_of_genres)}\\n')\n",
    "for item in list_of_genres:\n",
    "    genre_rec_tracks_call= sp.recommendations(seed_genres=[item],limit=100, max='popularity').get('tracks')\n",
    "    genre_name =item\n",
    "    number_of_tracks_genre = len(genre_rec_tracks_call) \n",
    "    print(f'number of recommended tracks for {genre_name}: {number_of_tracks_genre}\\n')\n",
    "    #print(json.dumps(playlist_test_tracks, indent=4))\n",
    "    for x in range(0,number_of_tracks_genre):\n",
    "        if genre_rec_tracks_call[x]== None:\n",
    "            continue\n",
    "        else:\n",
    "            #print(x)\n",
    "            genre_track_title = genre_rec_tracks_call[x].get('name')\n",
    "            genre_track_id = genre_rec_tracks_call[x].get('id')\n",
    "            genre_track_artist = genre_rec_tracks_call[x].get('artists')[0].get('name')\n",
    "            genre_artist_id= genre_rec_tracks_call[x].get('artists')[0].get('id')\n",
    "            genre_track_album = genre_rec_tracks_call[x].get('album').get('name')\n",
    "            genre_album_id= genre_rec_tracks_call[x].get('album').get('id')\n",
    "            genre_track_release_date = genre_rec_tracks_call[x].get('album').get('release_date')\n",
    "            genre_album_type =  genre_rec_tracks_call[x].get('album').get('album_type')\n",
    "            genre_track_popularity = genre_rec_tracks_call[x].get('popularity')\n",
    "            columns = {'genre_name':[genre_name],\n",
    "                       'track_title':[genre_track_title],\n",
    "                       'track_id':[genre_track_id],\n",
    "                       'track_artist':[genre_track_artist],\n",
    "                       'artist_id':[genre_artist_id],\n",
    "                       'track_album':[genre_track_album],\n",
    "                       'track_release_date':[genre_track_release_date],\n",
    "                       'genre_album_type':[genre_album_type],\n",
    "                       'genre_track_popularity':[genre_track_popularity]\n",
    "\n",
    "                      }\n",
    "            temp_df=pd.DataFrame.from_dict(columns)\n",
    "            genre_track_df= pd.concat([genre_track_df, temp_df])\n",
    "genre_track_df.reset_index(drop=True,inplace=True)"
   ]
  },
  {
   "cell_type": "code",
   "execution_count": null,
   "id": "f4f76370",
   "metadata": {},
   "outputs": [],
   "source": [
    "genre_track_df.head(100)"
   ]
  },
  {
   "cell_type": "code",
   "execution_count": null,
   "id": "45896d5f",
   "metadata": {},
   "outputs": [],
   "source": [
    "number_of_songs = len(genre_track_df)\n",
    "songmeta_temp = {}\n",
    "meta_df= pd.DataFrame()\n",
    "for i,row in genre_track_df.iterrows():\n",
    "    print(i)\n",
    "    song_features = sp.audio_features(row['track_id'])[0]\n",
    "    artist_info = sp.artist(row['artist_id'])\n",
    "    artist_followers = artist_info.get('followers').get('total')\n",
    "    artist_genres = artist_info.get('genres')\n",
    "    artist_popularity = artist_info.get('popularity')\n",
    "    if song_features == None:\n",
    "        continue\n",
    "    else:\n",
    "        for k,v in song_features.items():\n",
    "            songmeta_temp[k]=[v]\n",
    "        songmeta_temp['artist_followers']=[artist_followers]\n",
    "        songmeta_temp['artist_genres']=[artist_genres]\n",
    "        songmeta_temp['artist_popularity']=[artist_popularity]\n",
    "        song_features_temp_df = pd.DataFrame.from_dict(songmeta_temp)\n",
    "        meta_df = pd.concat([meta_df, song_features_temp_df])"
   ]
  },
  {
   "cell_type": "code",
   "execution_count": null,
   "id": "630cb8db",
   "metadata": {},
   "outputs": [],
   "source": [
    "meta_df=meta_df.drop_duplicates(subset=meta_df.columns.difference(['artist_genres']),keep='first')\n",
    "genre_song_merged = pd.merge(genre_track_df, meta_df, how = 'left', left_on='track_id', right_on='id' )\n",
    "genre_song_merged.drop(['id', 'uri', 'track_href'], axis = 1, inplace=True)\n",
    "genre_song_merged"
   ]
  },
  {
   "cell_type": "code",
   "execution_count": null,
   "id": "10bd4fb1",
   "metadata": {},
   "outputs": [],
   "source": [
    "now = str(datetime.datetime.now())\n",
    "now\n",
    "genre_song_merged.to_csv(f'songs_by_genre_{now}.csv')"
   ]
  },
  {
   "cell_type": "code",
   "execution_count": null,
   "id": "1041c03e",
   "metadata": {},
   "outputs": [],
   "source": []
  }
 ],
 "metadata": {
  "kernelspec": {
   "display_name": "Python 3",
   "language": "python",
   "name": "python3"
  },
  "language_info": {
   "codemirror_mode": {
    "name": "ipython",
    "version": 3
   },
   "file_extension": ".py",
   "mimetype": "text/x-python",
   "name": "python",
   "nbconvert_exporter": "python",
   "pygments_lexer": "ipython3",
   "version": "3.8.8"
  }
 },
 "nbformat": 4,
 "nbformat_minor": 5
}
