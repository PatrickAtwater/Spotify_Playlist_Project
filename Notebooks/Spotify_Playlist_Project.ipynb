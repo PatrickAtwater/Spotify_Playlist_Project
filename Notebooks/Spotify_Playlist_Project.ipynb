{
 "cells": [
  {
   "cell_type": "code",
   "execution_count": null,
   "id": "91af3325",
   "metadata": {},
   "outputs": [],
   "source": [
    "import pandas as pd\n",
    "import spotipy\n",
    "import datetime\n",
    "from spotipy.oauth2 import SpotifyClientCredentials"
   ]
  },
  {
   "cell_type": "code",
   "execution_count": null,
   "id": "beda9369",
   "metadata": {},
   "outputs": [],
   "source": [
    "client_id ='b5762be2d23d43b189262e8c53a6078c'\n",
    "client_secret = 'a7e8d83649314303817889927c027728'\n",
    "auth_manager = SpotifyClientCredentials(client_id=client_id, client_secret=client_secret)\n",
    "sp = spotipy.Spotify(auth_manager=auth_manager)"
   ]
  },
  {
   "cell_type": "markdown",
   "id": "4640cb66",
   "metadata": {},
   "source": [
    "### Using categories method and a loop for offset, call all categories and their IDs"
   ]
  },
  {
   "cell_type": "code",
   "execution_count": null,
   "id": "af0472e5",
   "metadata": {},
   "outputs": [],
   "source": [
    "offset = [0,50]\n",
    "list_of_categories = []\n",
    "for item in offset:\n",
    "    list_temp= sp.categories(limit=50, offset=item).get('categories').get('items')\n",
    "    print(len(list_temp))\n",
    "    for x in range(0, len(list_temp)):\n",
    "        category_entry = list_temp[x]\n",
    "        list_of_categories.append(category_entry)\n",
    "list_of_categories"
   ]
  },
  {
   "cell_type": "markdown",
   "id": "a9c4ce5e",
   "metadata": {},
   "source": [
    "### Create Dataframe of Categories and their ID's"
   ]
  },
  {
   "cell_type": "code",
   "execution_count": null,
   "id": "b2dd3c14",
   "metadata": {},
   "outputs": [],
   "source": [
    "category_df = pd.DataFrame(columns=['category_name', 'category_id'])\n",
    "for item in list_of_categories:\n",
    "    category_id = item.get('id')\n",
    "    category_name = item.get('name')\n",
    "    cat_temp_dict = {}\n",
    "    cat_temp_dict['category_name']=[category_name]\n",
    "    cat_temp_dict['category_id'] = [category_id]\n",
    "    cat_temp_df = pd.DataFrame(cat_temp_dict)\n",
    "    category_df= pd.concat([category_df,cat_temp_df])\n",
    "category_df.reset_index(drop=True,inplace=True)\n",
    "category_df"
   ]
  },
  {
   "cell_type": "markdown",
   "id": "2c58583b",
   "metadata": {},
   "source": [
    "### Create call to produce DataFrame of all playlists for each given category"
   ]
  },
  {
   "cell_type": "code",
   "execution_count": null,
   "id": "2366886b",
   "metadata": {},
   "outputs": [],
   "source": [
    "columns = ['category_name', 'category_id','name',\n",
    "           'description','id','href','tracks','collaborative',\n",
    "           'external_urls',\n",
    "           'images',\n",
    "           'owner',\n",
    "           'primary_color',\n",
    "           'public',\n",
    "           'snapshot_id',\n",
    "           'type',\n",
    "           'uri']\n",
    "cat_playlist_df= pd.DataFrame(columns=columns)\n",
    "for i, row in category_df.iterrows():\n",
    "    if row['category_id'] == 'francophone':\n",
    "        continue\n",
    "    else:\n",
    "        cat_call = sp.category_playlists(row['category_id']).get('playlists').get('items')\n",
    "        cat_name = row['category_name']\n",
    "        cat_number_of_playlists = len(cat_call)\n",
    "        cat_playlist_temp = {}\n",
    "        for y in range(0,cat_number_of_playlists):\n",
    "            cat_playlist_info = cat_call[y]\n",
    "            #print(playlist_info)\n",
    "            for k,v in cat_playlist_info.items():\n",
    "                cat_playlist_temp[k]=[v]\n",
    "                cat_playlist_temp['category_name'] = [cat_name]\n",
    "                cat_playlist_temp['category_id'] = [row['category_id']]\n",
    "            cat_playlist_temp_df = pd.DataFrame.from_dict(cat_playlist_temp)\n",
    "            cat_playlist_df = pd.concat([cat_playlist_df, cat_playlist_temp_df])\n",
    "cat_playlist_df.reset_index(drop=True,inplace=True)\n",
    "cat_playlist_df"
   ]
  },
  {
   "cell_type": "markdown",
   "id": "6d7a0420",
   "metadata": {},
   "source": [
    "### Save Playlist DataFrame to .csv and then reload .csv file to avoid hitting the API too often"
   ]
  },
  {
   "cell_type": "code",
   "execution_count": null,
   "id": "7b719ddc",
   "metadata": {},
   "outputs": [],
   "source": [
    "now = str(datetime.datetime.now())\n",
    "now\n",
    "cat_playlist_df.to_csv(f'Playlists_by_category_{now}.csv')"
   ]
  },
  {
   "cell_type": "code",
   "execution_count": null,
   "id": "eb373d6b",
   "metadata": {},
   "outputs": [],
   "source": [
    "category_playlists_df = pd.read_csv('Playlists_by_category_2021-08-09 11.40.13.466842.csv')"
   ]
  },
  {
   "cell_type": "markdown",
   "id": "08a171a5",
   "metadata": {},
   "source": [
    "### Pull Track Info for each song in each playlist in the category_playlist DataFrame"
   ]
  },
  {
   "cell_type": "code",
   "execution_count": null,
   "id": "07b0b532",
   "metadata": {},
   "outputs": [],
   "source": [
    "cat_track_df = pd.DataFrame()\n",
    "for i,row in category_playlists_df.iterrows():\n",
    "    playlist_test_tracks= sp.playlist_tracks(row['id'])\n",
    "    playlist_name =row['name'] \n",
    "    playlist_length =len(playlist_test_tracks.get('items'))\n",
    "    print(f'{i}:{playlist_name}\\n number of tracks: {playlist_length}\\n')\n",
    "    #print(json.dumps(playlist_test_tracks, indent=4))\n",
    "    for x in range(0,playlist_length):\n",
    "        if playlist_test_tracks.get('items')[x].get('track')== None:\n",
    "            continue\n",
    "        else:\n",
    "            #print(x)\n",
    "            track_title = playlist_test_tracks.get('items')[x].get('track').get('name')\n",
    "            track_id = playlist_test_tracks.get('items')[x].get('track').get('id')\n",
    "            track_artist = playlist_test_tracks.get('items')[x].get('track').get('artists')[0].get('name')\n",
    "            artist_id= playlist_test_tracks.get('items')[x].get('track').get('artists')[0].get('id')\n",
    "            track_album = playlist_test_tracks.get('items')[x].get('track').get('album').get('name')\n",
    "            album_id= playlist_test_tracks.get('items')[x].get('track').get('album').get('id')\n",
    "            track_release_date = playlist_test_tracks.get('items')[x].get('track').get('album').get('release_date')\n",
    "            date_added = playlist_test_tracks.get('items')[x].get('added_at')\n",
    "            popularity = playlist_test_tracks.get('items')[x].get('track').get('popularity')\n",
    "            columns = {'category_name' : [row['category_name']],\n",
    "                       'category_id' : [row['category_id']],\n",
    "                       'playlist_name':[playlist_name],\n",
    "                       'playlist_id': [row['id']],\n",
    "                       'track_title':[track_title],\n",
    "                       'track_id':[track_id],\n",
    "                       'track_artist':[track_artist],\n",
    "                       'artist_id':[artist_id],\n",
    "                       'track_album':[track_album],\n",
    "                       'track_release_date':[track_release_date],\n",
    "                       'date_added':[date_added],\n",
    "                       'popularity':[popularity]\n",
    "\n",
    "                      }\n",
    "            temp_df=pd.DataFrame.from_dict(columns)\n",
    "            cat_track_df= pd.concat([cat_track_df, temp_df])\n",
    "cat_track_df.reset_index(drop=True,inplace=True)"
   ]
  },
  {
   "cell_type": "markdown",
   "id": "95bf5517",
   "metadata": {},
   "source": [
    "### Save Playlist Tracks DataFrame to .csv and then reload .csv file to avoid having to run lengthy loop again"
   ]
  },
  {
   "cell_type": "code",
   "execution_count": null,
   "id": "c63c27a4",
   "metadata": {},
   "outputs": [],
   "source": [
    "now = str(datetime.datetime.now())\n",
    "now\n",
    "cat_track_df.to_csv(f'songs_by_cat_{now}.csv')"
   ]
  },
  {
   "cell_type": "code",
   "execution_count": null,
   "id": "c1214588",
   "metadata": {},
   "outputs": [],
   "source": [
    "cat_track_df = pd.read_csv('songs_by_cat_2021-08-11 09.54.23.367182.csv')"
   ]
  },
  {
   "cell_type": "markdown",
   "id": "d5093fc1",
   "metadata": {},
   "source": [
    "### Check for and drop duplicate values in Track df"
   ]
  },
  {
   "cell_type": "code",
   "execution_count": null,
   "id": "de4f37e9",
   "metadata": {},
   "outputs": [],
   "source": [
    "cat_track_df = cat_track_df.drop_duplicates(keep='first')\n",
    "cat_track_df.reset_index(drop=True, inplace=True)\n",
    "cat_track_df"
   ]
  },
  {
   "cell_type": "markdown",
   "id": "b1a2311d",
   "metadata": {},
   "source": [
    "### Run Loop to pull all the metadata for each song in the Cat_Track_df"
   ]
  },
  {
   "cell_type": "code",
   "execution_count": null,
   "id": "996b3ae9",
   "metadata": {},
   "outputs": [],
   "source": [
    "songmeta_temp = {}\n",
    "meta_df= pd.DataFrame()\n",
    "for i,row in cat_track_df.iterrows():\n",
    "    print(i)\n",
    "    try:\n",
    "        song_features = sp.audio_features(row['track_id'])[0]\n",
    "        sp.artist(row['artist_id'])\n",
    "        artist_info = sp.artist(row['artist_id'])\n",
    "        artist_followers = artist_info.get('followers').get('total')\n",
    "        artist_genres = artist_info.get('genres')\n",
    "        artist_popularity = artist_info.get('popularity')\n",
    "        if song_features == None or artist_info == None:\n",
    "            continue\n",
    "        else:\n",
    "            for k,v in song_features.items():\n",
    "                songmeta_temp[k]=[v]\n",
    "            songmeta_temp['artist_followers']=[artist_followers]\n",
    "            songmeta_temp['artist_genres']=[artist_genres]\n",
    "            songmeta_temp['artist_popularity']=[artist_popularity]\n",
    "            song_features_temp_df = pd.DataFrame.from_dict(songmeta_temp)\n",
    "            meta_df = pd.concat([meta_df, song_features_temp_df])\n",
    "    except:\n",
    "        continue"
   ]
  },
  {
   "cell_type": "markdown",
   "id": "243737a4",
   "metadata": {},
   "source": [
    "### Perform Data cleaning on Meta_df DataFrame: drop duplicates and unnecessary columns"
   ]
  },
  {
   "cell_type": "code",
   "execution_count": null,
   "id": "d44533c8",
   "metadata": {
    "scrolled": false
   },
   "outputs": [],
   "source": [
    "len(meta_df)"
   ]
  },
  {
   "cell_type": "code",
   "execution_count": null,
   "id": "7ba6b8e4",
   "metadata": {},
   "outputs": [],
   "source": [
    "meta_df=meta_df.drop_duplicates(subset=meta_df.columns.difference(['artist_followers','artist_genres']),keep='first')\n",
    "meta_df.reset_index(drop=True, inplace=True)"
   ]
  },
  {
   "cell_type": "code",
   "execution_count": null,
   "id": "efe81749",
   "metadata": {
    "scrolled": true
   },
   "outputs": [],
   "source": [
    "len(meta_df)"
   ]
  },
  {
   "cell_type": "code",
   "execution_count": null,
   "id": "bf3384d4",
   "metadata": {},
   "outputs": [],
   "source": [
    "meta_df.drop(columns=['Unnamed: 0'], inplace=True)"
   ]
  },
  {
   "cell_type": "code",
   "execution_count": null,
   "id": "a8444f23",
   "metadata": {},
   "outputs": [],
   "source": [
    "len(meta_df)\n",
    "meta_df"
   ]
  },
  {
   "cell_type": "markdown",
   "id": "98907768",
   "metadata": {},
   "source": [
    "### Save Meta_df to .csv and then load from .csv to avoid running lengthy loop again"
   ]
  },
  {
   "cell_type": "code",
   "execution_count": null,
   "id": "5f5e7f62",
   "metadata": {},
   "outputs": [],
   "source": [
    "meta_df.to_csv('meta_df.csv')"
   ]
  },
  {
   "cell_type": "code",
   "execution_count": null,
   "id": "76dec48b",
   "metadata": {},
   "outputs": [],
   "source": [
    "meta_df = pd.read_csv('meta_df.csv')"
   ]
  },
  {
   "cell_type": "markdown",
   "id": "d2621cec",
   "metadata": {},
   "source": [
    "### Merge MetaData and Playlist tracks DataFrames, drop unnecessary columns"
   ]
  },
  {
   "cell_type": "code",
   "execution_count": null,
   "id": "ea108ebd",
   "metadata": {},
   "outputs": [],
   "source": [
    "cat_song_merged = pd.merge(cat_track_df, meta_df, how = 'left', left_on='track_id', right_on='id' )\n",
    "cat_song_merged.drop(['id', 'uri', 'track_href'], axis = 1, inplace=True)\n",
    "cat_song_merged.tail(1000)"
   ]
  },
  {
   "cell_type": "markdown",
   "id": "b425f3be",
   "metadata": {},
   "source": [
    "### Inspect DataFrame then decide to drop playlist that is irrelevant (podcast)"
   ]
  },
  {
   "cell_type": "code",
   "execution_count": null,
   "id": "f12e140e",
   "metadata": {},
   "outputs": [],
   "source": [
    "cat_song_merged=cat_song_merged[cat_song_merged['category_id'] != 'play_your_part']"
   ]
  },
  {
   "cell_type": "markdown",
   "id": "2747d07a",
   "metadata": {},
   "source": [
    "### Save Merged DataFrame to .csv (this will be the main Dataset used for the analysis)"
   ]
  },
  {
   "cell_type": "code",
   "execution_count": null,
   "id": "61e3699f",
   "metadata": {},
   "outputs": [],
   "source": [
    "cat_song_merged.to_csv('Categories_dataset.csv')"
   ]
  },
  {
   "cell_type": "code",
   "execution_count": null,
   "id": "6ee7c933",
   "metadata": {},
   "outputs": [],
   "source": []
  },
  {
   "cell_type": "markdown",
   "id": "e1acaf4a",
   "metadata": {},
   "source": [
    "### Pull Playlist images and descriptions for dashboard"
   ]
  },
  {
   "cell_type": "code",
   "execution_count": null,
   "id": "b7210da1",
   "metadata": {},
   "outputs": [],
   "source": [
    "category_playlists_df"
   ]
  },
  {
   "cell_type": "code",
   "execution_count": null,
   "id": "fb40cf27",
   "metadata": {},
   "outputs": [],
   "source": [
    "for i, row in category_playlists_df.iterrows():\n",
    "    correct_url = row['images'][26:-18]\n",
    "    category_playlists_df.iloc[i,-1]=correct_url"
   ]
  },
  {
   "cell_type": "code",
   "execution_count": null,
   "id": "c51f4037",
   "metadata": {},
   "outputs": [],
   "source": [
    "playlist_img_desc = category_playlists_df[['category_name', 'category_id', 'name', 'id', 'description','image_url']]"
   ]
  },
  {
   "cell_type": "code",
   "execution_count": null,
   "id": "ae6cc35a",
   "metadata": {},
   "outputs": [],
   "source": [
    "playlist_img_desc"
   ]
  },
  {
   "cell_type": "code",
   "execution_count": null,
   "id": "066948f6",
   "metadata": {},
   "outputs": [],
   "source": [
    "playlist_img_desc.to_excel('playlist_images_descriptions.xlsx', sheet_name='playlist_images_descriptions')"
   ]
  },
  {
   "cell_type": "code",
   "execution_count": null,
   "id": "76ad3859",
   "metadata": {},
   "outputs": [],
   "source": []
  },
  {
   "cell_type": "code",
   "execution_count": null,
   "id": "2a2bfbf8",
   "metadata": {},
   "outputs": [],
   "source": []
  },
  {
   "cell_type": "markdown",
   "id": "c901415f",
   "metadata": {},
   "source": [
    "## Phase 2: Genre based data"
   ]
  },
  {
   "cell_type": "markdown",
   "id": "6f331092",
   "metadata": {},
   "source": [
    "### Next, pull recommended tracks based on each genre"
   ]
  },
  {
   "cell_type": "code",
   "execution_count": null,
   "id": "d9417d53",
   "metadata": {},
   "outputs": [],
   "source": [
    "list_of_genres = sp.recommendation_genre_seeds()\n",
    "list_of_genres= list_of_genres.get('genres')\n",
    "list_of_genres"
   ]
  },
  {
   "cell_type": "code",
   "execution_count": null,
   "id": "740036f9",
   "metadata": {},
   "outputs": [],
   "source": [
    "genre_rec_tracks = sp.recommendations(seed_genres=['acoustic'], limit=100, max='popularity')\n",
    "genre_rec_tracks.get('tracks')[1]"
   ]
  },
  {
   "cell_type": "code",
   "execution_count": null,
   "id": "9e8d19ea",
   "metadata": {},
   "outputs": [],
   "source": [
    "genre_rec_tracks.get('tracks')[1].get('album').get('name')"
   ]
  },
  {
   "cell_type": "markdown",
   "id": "44a1492b",
   "metadata": {},
   "source": [
    "### Recommendations call gives you 100 songs for each genre. Next step, compile master list of each recommended song for each genre along with metadata. Finally Save this combine Dataframe to a .csv for use in further analysis. "
   ]
  },
  {
   "cell_type": "code",
   "execution_count": null,
   "id": "6ac90ce7",
   "metadata": {},
   "outputs": [],
   "source": [
    "genre_track_df = pd.DataFrame()\n",
    "print(f'number of genres: {len(list_of_genres)}\\n')\n",
    "for item in list_of_genres:\n",
    "    genre_rec_tracks_call= sp.recommendations(seed_genres=[item],limit=100, max='popularity').get('tracks')\n",
    "    genre_name =item\n",
    "    number_of_tracks_genre = len(genre_rec_tracks_call) \n",
    "    print(f'number of recommended tracks for {genre_name}: {number_of_tracks_genre}\\n')\n",
    "    #print(json.dumps(playlist_test_tracks, indent=4))\n",
    "    for x in range(0,number_of_tracks_genre):\n",
    "        if genre_rec_tracks_call[x]== None:\n",
    "            continue\n",
    "        else:\n",
    "            #print(x)\n",
    "            genre_track_title = genre_rec_tracks_call[x].get('name')\n",
    "            genre_track_id = genre_rec_tracks_call[x].get('id')\n",
    "            genre_track_artist = genre_rec_tracks_call[x].get('artists')[0].get('name')\n",
    "            genre_artist_id= genre_rec_tracks_call[x].get('artists')[0].get('id')\n",
    "            genre_track_album = genre_rec_tracks_call[x].get('album').get('name')\n",
    "            genre_album_id= genre_rec_tracks_call[x].get('album').get('id')\n",
    "            genre_track_release_date = genre_rec_tracks_call[x].get('album').get('release_date')\n",
    "            genre_album_type =  genre_rec_tracks_call[x].get('album').get('album_type')\n",
    "            genre_track_popularity = genre_rec_tracks_call[x].get('popularity')\n",
    "            columns = {'genre_name':[genre_name],\n",
    "                       'track_title':[genre_track_title],\n",
    "                       'track_id':[genre_track_id],\n",
    "                       'track_artist':[genre_track_artist],\n",
    "                       'artist_id':[genre_artist_id],\n",
    "                       'track_album':[genre_track_album],\n",
    "                       'track_release_date':[genre_track_release_date],\n",
    "                       'genre_album_type':[genre_album_type],\n",
    "                       'genre_track_popularity':[genre_track_popularity]\n",
    "\n",
    "                      }\n",
    "            temp_df=pd.DataFrame.from_dict(columns)\n",
    "            genre_track_df= pd.concat([genre_track_df, temp_df])\n",
    "genre_track_df.reset_index(drop=True,inplace=True)"
   ]
  },
  {
   "cell_type": "code",
   "execution_count": null,
   "id": "f4f76370",
   "metadata": {},
   "outputs": [],
   "source": [
    "genre_track_df.head(100)"
   ]
  },
  {
   "cell_type": "code",
   "execution_count": null,
   "id": "45896d5f",
   "metadata": {},
   "outputs": [],
   "source": [
    "number_of_songs = len(genre_track_df)\n",
    "songmeta_temp = {}\n",
    "meta_df= pd.DataFrame()\n",
    "for i,row in genre_track_df.iterrows():\n",
    "    print(i)\n",
    "    song_features = sp.audio_features(row['track_id'])[0]\n",
    "    artist_info = sp.artist(row['artist_id'])\n",
    "    artist_followers = artist_info.get('followers').get('total')\n",
    "    artist_genres = artist_info.get('genres')\n",
    "    artist_popularity = artist_info.get('popularity')\n",
    "    if song_features == None:\n",
    "        continue\n",
    "    else:\n",
    "        for k,v in song_features.items():\n",
    "            songmeta_temp[k]=[v]\n",
    "        songmeta_temp['artist_followers']=[artist_followers]\n",
    "        songmeta_temp['artist_genres']=[artist_genres]\n",
    "        songmeta_temp['artist_popularity']=[artist_popularity]\n",
    "        song_features_temp_df = pd.DataFrame.from_dict(songmeta_temp)\n",
    "        meta_df = pd.concat([meta_df, song_features_temp_df])"
   ]
  },
  {
   "cell_type": "code",
   "execution_count": null,
   "id": "630cb8db",
   "metadata": {},
   "outputs": [],
   "source": [
    "meta_df=meta_df.drop_duplicates(subset=meta_df.columns.difference(['artist_genres']),keep='first')\n",
    "genre_song_merged = pd.merge(genre_track_df, meta_df, how = 'left', left_on='track_id', right_on='id' )\n",
    "genre_song_merged.drop(['id', 'uri', 'track_href'], axis = 1, inplace=True)\n",
    "genre_song_merged"
   ]
  },
  {
   "cell_type": "code",
   "execution_count": null,
   "id": "10bd4fb1",
   "metadata": {},
   "outputs": [],
   "source": [
    "now = str(datetime.datetime.now())\n",
    "now\n",
    "genre_song_merged.to_csv(f'songs_by_genre_{now}.csv')"
   ]
  },
  {
   "cell_type": "code",
   "execution_count": null,
   "id": "086baef9",
   "metadata": {},
   "outputs": [],
   "source": []
  }
 ],
 "metadata": {
  "kernelspec": {
   "display_name": "Python 3",
   "language": "python",
   "name": "python3"
  },
  "language_info": {
   "codemirror_mode": {
    "name": "ipython",
    "version": 3
   },
   "file_extension": ".py",
   "mimetype": "text/x-python",
   "name": "python",
   "nbconvert_exporter": "python",
   "pygments_lexer": "ipython3",
   "version": "3.8.8"
  }
 },
 "nbformat": 4,
 "nbformat_minor": 5
}
